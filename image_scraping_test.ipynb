{
 "cells": [
  {
   "cell_type": "code",
   "execution_count": 2,
   "metadata": {},
   "outputs": [],
   "source": [
    "import image_scraping as image_scraping\n",
    "import asyncio"
   ]
  },
  {
   "cell_type": "code",
   "execution_count": null,
   "metadata": {},
   "outputs": [
    {
     "name": "stdout",
     "output_type": "stream",
     "text": [
      "Async event loop already running. Adding coroutine to the event loop.\n"
     ]
    },
    {
     "name": "stderr",
     "output_type": "stream",
     "text": [
      "c:\\Users\\tiffa\\miniconda3\\envs\\hackumass25\\lib\\site-packages\\debugpy\\_vendored\\pydevd\\pydevd.py:1197: RuntimeWarning: coroutine 'scrape_google_images' was never awaited\n",
      "  return self._in_project_scope_cache[cache_key]\n",
      "RuntimeWarning: Enable tracemalloc to get the object allocation traceback\n",
      "Task exception was never retrieved\n",
      "future: <Task finished coro=<Connection.run() done, defined at c:\\Users\\tiffa\\miniconda3\\envs\\hackumass25\\lib\\site-packages\\playwright\\_impl\\_connection.py:258> exception=NotImplementedError()>\n",
      "Traceback (most recent call last):\n",
      "  File \"c:\\Users\\tiffa\\miniconda3\\envs\\hackumass25\\lib\\site-packages\\playwright\\_impl\\_connection.py\", line 265, in run\n",
      "    await self._transport.connect()\n",
      "  File \"c:\\Users\\tiffa\\miniconda3\\envs\\hackumass25\\lib\\site-packages\\playwright\\_impl\\_transport.py\", line 127, in connect\n",
      "    raise exc\n",
      "  File \"c:\\Users\\tiffa\\miniconda3\\envs\\hackumass25\\lib\\site-packages\\playwright\\_impl\\_transport.py\", line 123, in connect\n",
      "    env=env,\n",
      "  File \"c:\\Users\\tiffa\\miniconda3\\envs\\hackumass25\\lib\\asyncio\\subprocess.py\", line 217, in create_subprocess_exec\n",
      "    stderr=stderr, **kwds)\n",
      "  File \"c:\\Users\\tiffa\\miniconda3\\envs\\hackumass25\\lib\\asyncio\\base_events.py\", line 1544, in subprocess_exec\n",
      "    bufsize, **kwargs)\n",
      "  File \"c:\\Users\\tiffa\\miniconda3\\envs\\hackumass25\\lib\\asyncio\\base_events.py\", line 462, in _make_subprocess_transport\n",
      "    raise NotImplementedError\n",
      "NotImplementedError\n",
      "Exception in callback <lambda>(<Task finishe...mentedError()>) at C:\\Users\\tiffa\\AppData\\Local\\Temp\\ipykernel_44016\\1541109476.py:12\n",
      "handle: <Handle <lambda>(<Task finishe...mentedError()>) at C:\\Users\\tiffa\\AppData\\Local\\Temp\\ipykernel_44016\\1541109476.py:12>\n",
      "Traceback (most recent call last):\n",
      "  File \"c:\\Users\\tiffa\\miniconda3\\envs\\hackumass25\\lib\\asyncio\\events.py\", line 88, in _run\n",
      "    self._context.run(self._callback, *self._args)\n",
      "  File \"C:\\Users\\tiffa\\AppData\\Local\\Temp\\ipykernel_44016\\1541109476.py\", line 12, in <lambda>\n",
      "    lambda t: print(f'Task done with result={t.result()}  << return val of main()'))\n",
      "  File \"c:\\Users\\tiffa\\Documents\\HackUMass25\\TBD\\image_scraping.py\", line 67, in scrape_google_images\n",
      "    \"\"\"\n",
      "  File \"c:\\Users\\tiffa\\miniconda3\\envs\\hackumass25\\lib\\site-packages\\playwright\\async_api\\_context_manager.py\", line 46, in __aenter__\n",
      "    playwright = AsyncPlaywright(next(iter(done)).result())\n",
      "  File \"c:\\Users\\tiffa\\miniconda3\\envs\\hackumass25\\lib\\site-packages\\playwright\\_impl\\_connection.py\", line 265, in run\n",
      "    await self._transport.connect()\n",
      "  File \"c:\\Users\\tiffa\\miniconda3\\envs\\hackumass25\\lib\\site-packages\\playwright\\_impl\\_transport.py\", line 127, in connect\n",
      "    raise exc\n",
      "  File \"c:\\Users\\tiffa\\miniconda3\\envs\\hackumass25\\lib\\site-packages\\playwright\\_impl\\_transport.py\", line 123, in connect\n",
      "    env=env,\n",
      "  File \"c:\\Users\\tiffa\\miniconda3\\envs\\hackumass25\\lib\\asyncio\\subprocess.py\", line 217, in create_subprocess_exec\n",
      "    stderr=stderr, **kwds)\n",
      "  File \"c:\\Users\\tiffa\\miniconda3\\envs\\hackumass25\\lib\\asyncio\\base_events.py\", line 1544, in subprocess_exec\n",
      "    bufsize, **kwargs)\n",
      "  File \"c:\\Users\\tiffa\\miniconda3\\envs\\hackumass25\\lib\\asyncio\\base_events.py\", line 462, in _make_subprocess_transport\n",
      "    raise NotImplementedError\n",
      "NotImplementedError\n"
     ]
    }
   ],
   "source": [
    "try:\n",
    "    loop = asyncio.get_running_loop()\n",
    "except RuntimeError:  # 'RuntimeError: There is no current event loop...'\n",
    "    loop = None\n",
    "\n",
    "if loop and loop.is_running():\n",
    "    print('Async event loop already running. Adding coroutine to the event loop.')\n",
    "    tsk = loop.create_task(image_scraping.scrape_google_images(search_query=\"The Ordinary Natural Moisturising Factors + HA 30ml\", max_images=1, timeout_duration=10))\n",
    "    # ^-- https://docs.python.org/3/library/asyncio-task.html#task-object\n",
    "    # Optionally, a callback function can be executed when the coroutine completes\n",
    "    tsk.add_done_callback(\n",
    "        lambda t: print(f'Task done with result={t.result()}  << return val of main()'))\n",
    "else:\n",
    "    print('Starting new event loop')\n",
    "    result = asyncio.run(image_scraping.scrape_google_images(search_query=\"The Ordinary Natural Moisturising Factors + HA 30ml\", max_images=1, timeout_duration=10))"
   ]
  },
  {
   "cell_type": "code",
   "execution_count": null,
   "metadata": {},
   "outputs": [
    {
     "ename": "RuntimeError",
     "evalue": "asyncio.run() cannot be called from a running event loop",
     "output_type": "error",
     "traceback": [
      "\u001b[1;31m---------------------------------------------------------------------------\u001b[0m",
      "\u001b[1;31mRuntimeError\u001b[0m                              Traceback (most recent call last)",
      "\u001b[1;32m~\\AppData\\Local\\Temp\\ipykernel_44016\\745536359.py\u001b[0m in \u001b[0;36m<module>\u001b[1;34m\u001b[0m\n\u001b[1;32m----> 1\u001b[1;33m \u001b[0masyncio\u001b[0m\u001b[1;33m.\u001b[0m\u001b[0mrun\u001b[0m\u001b[1;33m(\u001b[0m\u001b[0mimage_scraping\u001b[0m\u001b[1;33m.\u001b[0m\u001b[0mscrape_google_images\u001b[0m\u001b[1;33m(\u001b[0m\u001b[0msearch_query\u001b[0m\u001b[1;33m=\u001b[0m\u001b[1;34m\"The Ordinary Natural Moisturising Factors + HA 30ml\"\u001b[0m\u001b[1;33m,\u001b[0m \u001b[0mmax_images\u001b[0m\u001b[1;33m=\u001b[0m\u001b[1;36m1\u001b[0m\u001b[1;33m,\u001b[0m \u001b[0mtimeout_duration\u001b[0m\u001b[1;33m=\u001b[0m\u001b[1;36m10\u001b[0m\u001b[1;33m)\u001b[0m\u001b[1;33m)\u001b[0m\u001b[1;33m\u001b[0m\u001b[1;33m\u001b[0m\u001b[0m\n\u001b[0m",
      "\u001b[1;32mc:\\Users\\tiffa\\miniconda3\\envs\\hackumass25\\lib\\asyncio\\runners.py\u001b[0m in \u001b[0;36mrun\u001b[1;34m(main, debug)\u001b[0m\n\u001b[0;32m     32\u001b[0m     \u001b[1;32mif\u001b[0m \u001b[0mevents\u001b[0m\u001b[1;33m.\u001b[0m\u001b[0m_get_running_loop\u001b[0m\u001b[1;33m(\u001b[0m\u001b[1;33m)\u001b[0m \u001b[1;32mis\u001b[0m \u001b[1;32mnot\u001b[0m \u001b[1;32mNone\u001b[0m\u001b[1;33m:\u001b[0m\u001b[1;33m\u001b[0m\u001b[1;33m\u001b[0m\u001b[0m\n\u001b[0;32m     33\u001b[0m         raise RuntimeError(\n\u001b[1;32m---> 34\u001b[1;33m             \"asyncio.run() cannot be called from a running event loop\")\n\u001b[0m\u001b[0;32m     35\u001b[0m \u001b[1;33m\u001b[0m\u001b[0m\n\u001b[0;32m     36\u001b[0m     \u001b[1;32mif\u001b[0m \u001b[1;32mnot\u001b[0m \u001b[0mcoroutines\u001b[0m\u001b[1;33m.\u001b[0m\u001b[0miscoroutine\u001b[0m\u001b[1;33m(\u001b[0m\u001b[0mmain\u001b[0m\u001b[1;33m)\u001b[0m\u001b[1;33m:\u001b[0m\u001b[1;33m\u001b[0m\u001b[1;33m\u001b[0m\u001b[0m\n",
      "\u001b[1;31mRuntimeError\u001b[0m: asyncio.run() cannot be called from a running event loop"
     ]
    }
   ],
   "source": [
    "asyncio.run(image_scraping.scrape_google_images(search_query=\"The Ordinary Natural Moisturising Factors + HA 30ml\", max_images=1, timeout_duration=10))"
   ]
  }
 ],
 "metadata": {
  "kernelspec": {
   "display_name": "hackumass25",
   "language": "python",
   "name": "python3"
  },
  "language_info": {
   "codemirror_mode": {
    "name": "ipython",
    "version": 3
   },
   "file_extension": ".py",
   "mimetype": "text/x-python",
   "name": "python",
   "nbconvert_exporter": "python",
   "pygments_lexer": "ipython3",
   "version": "3.7.12"
  }
 },
 "nbformat": 4,
 "nbformat_minor": 2
}
